{
 "metadata": {
  "language_info": {
   "codemirror_mode": {
    "name": "ipython",
    "version": 3
   },
   "file_extension": ".py",
   "mimetype": "text/x-python",
   "name": "python",
   "nbconvert_exporter": "python",
   "pygments_lexer": "ipython3",
   "version": "3.6.6-final"
  },
  "orig_nbformat": 2,
  "kernelspec": {
   "name": "python3",
   "display_name": "Python 3"
  }
 },
 "nbformat": 4,
 "nbformat_minor": 2,
 "cells": [
  {
   "cell_type": "code",
   "execution_count": 44,
   "metadata": {},
   "outputs": [
    {
     "output_type": "execute_result",
     "data": {
      "text/plain": [
       "<pandas.io.formats.style.Styler at 0x7f694a871898>"
      ],
      "text/html": "<style  type=\"text/css\" >\n    #T_b43ebac4_72ce_11eb_accf_efb751d59792row0_col0 {\n            width:  10em;\n             height:  80%;\n            background:  linear-gradient(90deg,#266352 47.6%, transparent 47.6%);\n            padding:  15px;\n            border:  3px solid black;\n            width:  200px;\n        }    #T_b43ebac4_72ce_11eb_accf_efb751d59792row1_col0 {\n            width:  10em;\n             height:  80%;\n            background:  linear-gradient(90deg,#266352 87.4%, transparent 87.4%);\n            padding:  15px;\n            border:  3px solid black;\n            width:  200px;\n        }    #T_b43ebac4_72ce_11eb_accf_efb751d59792row2_col0 {\n            width:  10em;\n             height:  80%;\n            background:  linear-gradient(90deg,#266352 59.0%, transparent 59.0%);\n            padding:  15px;\n            border:  3px solid black;\n            width:  200px;\n        }    #T_b43ebac4_72ce_11eb_accf_efb751d59792row3_col0 {\n            width:  10em;\n             height:  80%;\n            background:  linear-gradient(90deg,#266352 49.0%, transparent 49.0%);\n            padding:  15px;\n            border:  3px solid black;\n            width:  200px;\n        }    #T_b43ebac4_72ce_11eb_accf_efb751d59792row4_col0 {\n            width:  10em;\n             height:  80%;\n            background:  linear-gradient(90deg,#266352 79.3%, transparent 79.3%);\n            padding:  15px;\n            border:  3px solid black;\n            width:  200px;\n        }    #T_b43ebac4_72ce_11eb_accf_efb751d59792row5_col0 {\n            width:  10em;\n             height:  80%;\n            background:  linear-gradient(90deg,#266352 80.3%, transparent 80.3%);\n            padding:  15px;\n            border:  3px solid black;\n            width:  200px;\n        }    #T_b43ebac4_72ce_11eb_accf_efb751d59792row6_col0 {\n            width:  10em;\n             height:  80%;\n            background:  linear-gradient(90deg,#266352 90.9%, transparent 90.9%);\n            padding:  15px;\n            border:  3px solid black;\n            width:  200px;\n        }    #T_b43ebac4_72ce_11eb_accf_efb751d59792row7_col0 {\n            width:  10em;\n             height:  80%;\n            background:  linear-gradient(90deg,#266352 57.2%, transparent 57.2%);\n            padding:  15px;\n            border:  3px solid black;\n            width:  200px;\n        }    #T_b43ebac4_72ce_11eb_accf_efb751d59792row8_col0 {\n            width:  10em;\n             height:  80%;\n            background:  linear-gradient(90deg,#266352 31.2%, transparent 31.2%);\n            padding:  15px;\n            border:  3px solid black;\n            width:  200px;\n        }    #T_b43ebac4_72ce_11eb_accf_efb751d59792row9_col0 {\n            width:  10em;\n             height:  80%;\n            background:  linear-gradient(90deg,#266352 100.0%, transparent 100.0%);\n            padding:  15px;\n            border:  3px solid black;\n            width:  200px;\n        }    #T_b43ebac4_72ce_11eb_accf_efb751d59792row10_col0 {\n            width:  10em;\n             height:  80%;\n            background:  linear-gradient(90deg,#266352 78.8%, transparent 78.8%);\n            padding:  15px;\n            border:  3px solid black;\n            width:  200px;\n        }    #T_b43ebac4_72ce_11eb_accf_efb751d59792row11_col0 {\n            width:  10em;\n             height:  80%;\n            background:  linear-gradient(90deg,#266352 17.5%, transparent 17.5%);\n            padding:  15px;\n            border:  3px solid black;\n            width:  200px;\n        }    #T_b43ebac4_72ce_11eb_accf_efb751d59792row12_col0 {\n            width:  10em;\n             height:  80%;\n            background:  linear-gradient(90deg,#266352 61.6%, transparent 61.6%);\n            padding:  15px;\n            border:  3px solid black;\n            width:  200px;\n        }    #T_b43ebac4_72ce_11eb_accf_efb751d59792row13_col0 {\n            width:  10em;\n             height:  80%;\n            background:  linear-gradient(90deg,#266352 48.9%, transparent 48.9%);\n            padding:  15px;\n            border:  3px solid black;\n            width:  200px;\n        }    #T_b43ebac4_72ce_11eb_accf_efb751d59792row14_col0 {\n            width:  10em;\n             height:  80%;\n            background:  linear-gradient(90deg,#266352 67.6%, transparent 67.6%);\n            padding:  15px;\n            border:  3px solid black;\n            width:  200px;\n        }    #T_b43ebac4_72ce_11eb_accf_efb751d59792row15_col0 {\n            width:  10em;\n             height:  80%;\n            background:  linear-gradient(90deg,#266352 46.9%, transparent 46.9%);\n            padding:  15px;\n            border:  3px solid black;\n            width:  200px;\n        }    #T_b43ebac4_72ce_11eb_accf_efb751d59792row16_col0 {\n            width:  10em;\n             height:  80%;\n            padding:  15px;\n            border:  3px solid black;\n            width:  200px;\n        }    #T_b43ebac4_72ce_11eb_accf_efb751d59792row17_col0 {\n            width:  10em;\n             height:  80%;\n            background:  linear-gradient(90deg,#266352 63.6%, transparent 63.6%);\n            padding:  15px;\n            border:  3px solid black;\n            width:  200px;\n        }</style><table id=\"T_b43ebac4_72ce_11eb_accf_efb751d59792\" ><caption>masses</caption><thead>    <tr>        <th class=\"blank\" ></th>        <th class=\"blank level0\" ></th>        <th class=\"col_heading level0 col0\" >mean</th>    </tr>    <tr>        <th class=\"index_name level0\" >Slope</th>        <th class=\"index_name level1\" >Depth</th>        <th class=\"blank\" ></th>    </tr></thead><tbody>\n                <tr>\n                        <th id=\"T_b43ebac4_72ce_11eb_accf_efb751d59792level0_row0\" class=\"row_heading level0 row0\" rowspan=5>1S</th>\n                        <th id=\"T_b43ebac4_72ce_11eb_accf_efb751d59792level1_row0\" class=\"row_heading level1 row0\" >05</th>\n                        <td id=\"T_b43ebac4_72ce_11eb_accf_efb751d59792row0_col0\" class=\"data row0 col0\" >4977.00</td>\n            </tr>\n            <tr>\n                                <th id=\"T_b43ebac4_72ce_11eb_accf_efb751d59792level1_row1\" class=\"row_heading level1 row1\" >15</th>\n                        <td id=\"T_b43ebac4_72ce_11eb_accf_efb751d59792row1_col0\" class=\"data row1 col0\" >5710.12</td>\n            </tr>\n            <tr>\n                                <th id=\"T_b43ebac4_72ce_11eb_accf_efb751d59792level1_row2\" class=\"row_heading level1 row2\" >30</th>\n                        <td id=\"T_b43ebac4_72ce_11eb_accf_efb751d59792row2_col0\" class=\"data row2 col0\" >5187.62</td>\n            </tr>\n            <tr>\n                                <th id=\"T_b43ebac4_72ce_11eb_accf_efb751d59792level1_row3\" class=\"row_heading level1 row3\" >60</th>\n                        <td id=\"T_b43ebac4_72ce_11eb_accf_efb751d59792row3_col0\" class=\"data row3 col0\" >5002.12</td>\n            </tr>\n            <tr>\n                                <th id=\"T_b43ebac4_72ce_11eb_accf_efb751d59792level1_row4\" class=\"row_heading level1 row4\" >Stream</th>\n                        <td id=\"T_b43ebac4_72ce_11eb_accf_efb751d59792row4_col0\" class=\"data row4 col0\" >5561.00</td>\n            </tr>\n            <tr>\n                        <th id=\"T_b43ebac4_72ce_11eb_accf_efb751d59792level0_row5\" class=\"row_heading level0 row5\" rowspan=4>2B</th>\n                        <th id=\"T_b43ebac4_72ce_11eb_accf_efb751d59792level1_row5\" class=\"row_heading level1 row5\" >05</th>\n                        <td id=\"T_b43ebac4_72ce_11eb_accf_efb751d59792row5_col0\" class=\"data row5 col0\" >5580.00</td>\n            </tr>\n            <tr>\n                                <th id=\"T_b43ebac4_72ce_11eb_accf_efb751d59792level1_row6\" class=\"row_heading level1 row6\" >15</th>\n                        <td id=\"T_b43ebac4_72ce_11eb_accf_efb751d59792row6_col0\" class=\"data row6 col0\" >5775.88</td>\n            </tr>\n            <tr>\n                                <th id=\"T_b43ebac4_72ce_11eb_accf_efb751d59792level1_row7\" class=\"row_heading level1 row7\" >30</th>\n                        <td id=\"T_b43ebac4_72ce_11eb_accf_efb751d59792row7_col0\" class=\"data row7 col0\" >5153.25</td>\n            </tr>\n            <tr>\n                                <th id=\"T_b43ebac4_72ce_11eb_accf_efb751d59792level1_row8\" class=\"row_heading level1 row8\" >60</th>\n                        <td id=\"T_b43ebac4_72ce_11eb_accf_efb751d59792row8_col0\" class=\"data row8 col0\" >4675.50</td>\n            </tr>\n            <tr>\n                        <th id=\"T_b43ebac4_72ce_11eb_accf_efb751d59792level0_row9\" class=\"row_heading level0 row9\" rowspan=4>3F</th>\n                        <th id=\"T_b43ebac4_72ce_11eb_accf_efb751d59792level1_row9\" class=\"row_heading level1 row9\" >05</th>\n                        <td id=\"T_b43ebac4_72ce_11eb_accf_efb751d59792row9_col0\" class=\"data row9 col0\" >5943.00</td>\n            </tr>\n            <tr>\n                                <th id=\"T_b43ebac4_72ce_11eb_accf_efb751d59792level1_row10\" class=\"row_heading level1 row10\" >15</th>\n                        <td id=\"T_b43ebac4_72ce_11eb_accf_efb751d59792row10_col0\" class=\"data row10 col0\" >5552.75</td>\n            </tr>\n            <tr>\n                                <th id=\"T_b43ebac4_72ce_11eb_accf_efb751d59792level1_row11\" class=\"row_heading level1 row11\" >30</th>\n                        <td id=\"T_b43ebac4_72ce_11eb_accf_efb751d59792row11_col0\" class=\"data row11 col0\" >4423.12</td>\n            </tr>\n            <tr>\n                                <th id=\"T_b43ebac4_72ce_11eb_accf_efb751d59792level1_row12\" class=\"row_heading level1 row12\" >60</th>\n                        <td id=\"T_b43ebac4_72ce_11eb_accf_efb751d59792row12_col0\" class=\"data row12 col0\" >5234.62</td>\n            </tr>\n            <tr>\n                        <th id=\"T_b43ebac4_72ce_11eb_accf_efb751d59792level0_row13\" class=\"row_heading level0 row13\" rowspan=4>4T</th>\n                        <th id=\"T_b43ebac4_72ce_11eb_accf_efb751d59792level1_row13\" class=\"row_heading level1 row13\" >05</th>\n                        <td id=\"T_b43ebac4_72ce_11eb_accf_efb751d59792row13_col0\" class=\"data row13 col0\" >5002.00</td>\n            </tr>\n            <tr>\n                                <th id=\"T_b43ebac4_72ce_11eb_accf_efb751d59792level1_row14\" class=\"row_heading level1 row14\" >15</th>\n                        <td id=\"T_b43ebac4_72ce_11eb_accf_efb751d59792row14_col0\" class=\"data row14 col0\" >5346.62</td>\n            </tr>\n            <tr>\n                                <th id=\"T_b43ebac4_72ce_11eb_accf_efb751d59792level1_row15\" class=\"row_heading level1 row15\" >30</th>\n                        <td id=\"T_b43ebac4_72ce_11eb_accf_efb751d59792row15_col0\" class=\"data row15 col0\" >4963.62</td>\n            </tr>\n            <tr>\n                                <th id=\"T_b43ebac4_72ce_11eb_accf_efb751d59792level1_row16\" class=\"row_heading level1 row16\" >60</th>\n                        <td id=\"T_b43ebac4_72ce_11eb_accf_efb751d59792row16_col0\" class=\"data row16 col0\" >4099.88</td>\n            </tr>\n            <tr>\n                        <th id=\"T_b43ebac4_72ce_11eb_accf_efb751d59792level0_row17\" class=\"row_heading level0 row17\" >5ST</th>\n                        <th id=\"T_b43ebac4_72ce_11eb_accf_efb751d59792level1_row17\" class=\"row_heading level1 row17\" >Stream</th>\n                        <td id=\"T_b43ebac4_72ce_11eb_accf_efb751d59792row17_col0\" class=\"data row17 col0\" >5273.00</td>\n            </tr>\n    </tbody></table>"
     },
     "metadata": {},
     "execution_count": 44
    }
   ],
   "source": [
    "#http://readiab.org/book/latest/3/1\n",
    "\n",
    "'''From a bioinformatics perspective, studying biological diversity is centered around a few key pieces of information:\n",
    "\n",
    "A table of the frequencies of certain biological features (e.g., species or OTUs) on a per sample basis.\n",
    "Sample metadata describing exactly what each of the samples is, as well as any relevant technical information.\n",
    "Feature metadata describing each of the features. This can be taxonomic information, for example, but we'll come back to this when we discuss features in more detail (this will be completed as part of #105).\n",
    "Optionally, information on the relationships between the biological features, typically in the form of a phylogenetic tree where tips in the tree correspond to OTUs in the table.'''\n",
    "%matplotlib inline\n",
    "import numpy as np\n",
    "import pandas as pd\n",
    "\n",
    "df= pd.read_csv('/home/erika/Desktop/likeliest_match_mz.csv')\n",
    "newdf = pd.read_csv('/home/erika/Desktop/likeliest_match_abspres.csv')\n",
    "\n",
    "averagetable = newdf.groupby(['Slope', 'Depth'])['n_peaks']\n",
    "averagetable= averagetable.agg(['mean'])\n",
    "averagetable.style \\\n",
    "  .format('{:.2f}') \\\n",
    "  .bar(align='left', color=['#0c750b', '#266352']) \\\n",
    "  .set_caption('masses') \\\n",
    "  .set_properties(padding=\"15px\", border='3px solid black', width='200px')\n",
    "\n"
   ]
  },
  {
   "cell_type": "code",
   "execution_count": 3,
   "metadata": {},
   "outputs": [],
   "source": [
    "'''\n",
    "The first metric that we'll look at is a quantitative non-phylogenetic  β  diversity metric called Bray-Curtis. The Bray-Curtis dissimilarity between a pair of samples,  j  and  k , is defined as follows:\n",
    "\n",
    "BCjk=∑i|Xij−Xik|∑i(Xij+Xik) \n",
    "i  : feature (e.g., OTUs)\n",
    "\n",
    "Xij  : frequency of feature  i  in sample  j \n",
    "Xik  : frequency of feature  i  in sample  k \n",
    "This could be implemented in python as follows:\n",
    "'''\n",
    "\n",
    "def bray_curtis_distance(table, sample1_id, sample2_id):\n",
    "    numerator = 0\n",
    "    denominator = 0\n",
    "    sample1_counts = table[sample1_id]\n",
    "    sample2_counts = table[sample2_id]\n",
    "    for sample1_count, sample2_count in zip(sample1_counts, sample2_counts):\n",
    "        numerator += abs(sample1_count - sample2_count)\n",
    "        denominator += sample1_count + sample2_count\n",
    "    return numerator / denominator"
   ]
  },
  {
   "cell_type": "code",
   "execution_count": null,
   "metadata": {},
   "outputs": [],
   "source": []
  },
  {
   "cell_type": "code",
   "execution_count": null,
   "metadata": {},
   "outputs": [],
   "source": []
  }
 ]
}
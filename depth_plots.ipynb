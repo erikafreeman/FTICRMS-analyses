{
 "metadata": {
  "language_info": {
   "codemirror_mode": {
    "name": "ipython",
    "version": 3
   },
   "file_extension": ".py",
   "mimetype": "text/x-python",
   "name": "python",
   "nbconvert_exporter": "python",
   "pygments_lexer": "ipython3",
   "version": "3.6.6-final"
  },
  "orig_nbformat": 2,
  "kernelspec": {
   "name": "python3",
   "display_name": "Python 3"
  }
 },
 "nbformat": 4,
 "nbformat_minor": 2,
 "cells": [
  {
   "cell_type": "code",
   "execution_count": 3,
   "metadata": {},
   "outputs": [],
   "source": [
    "#http://readiab.org/book/latest/3/1\n",
    "\n",
    "'''From a bioinformatics perspective, studying biological diversity is centered around a few key pieces of information:\n",
    "\n",
    "A table of the frequencies of certain biological features (e.g., species or OTUs) on a per sample basis.\n",
    "Sample metadata describing exactly what each of the samples is, as well as any relevant technical information.\n",
    "Feature metadata describing each of the features. This can be taxonomic information, for example, but we'll come back to this when we discuss features in more detail (this will be completed as part of #105).\n",
    "Optionally, information on the relationships between the biological features, typically in the form of a phylogenetic tree where tips in the tree correspond to OTUs in the table.'''\n",
    "%matplotlib inline\n",
    "import numpy as np\n",
    "import pandas as pd\n",
    "\n",
    "\n",
    "def observed_otus(table, sample_id):\n",
    "    return sum([e > 0 for e in table[sample_id]])"
   ]
  },
  {
   "cell_type": "code",
   "execution_count": null,
   "metadata": {},
   "outputs": [],
   "source": [
    "'''\n",
    "The first metric that we'll look at is a quantitative non-phylogenetic  β  diversity metric called Bray-Curtis. The Bray-Curtis dissimilarity between a pair of samples,  j  and  k , is defined as follows:\n",
    "\n",
    "BCjk=∑i|Xij−Xik|∑i(Xij+Xik) \n",
    "i  : feature (e.g., OTUs)\n",
    "\n",
    "Xij  : frequency of feature  i  in sample  j \n",
    "Xik  : frequency of feature  i  in sample  k \n",
    "This could be implemented in python as follows:\n",
    "'''\n",
    "\n",
    "def bray_curtis_distance(table, sample1_id, sample2_id):\n",
    "    numerator = 0\n",
    "    denominator = 0\n",
    "    sample1_counts = table[sample1_id]\n",
    "    sample2_counts = table[sample2_id]\n",
    "    for sample1_count, sample2_count in zip(sample1_counts, sample2_counts):\n",
    "        numerator += abs(sample1_count - sample2_count)\n",
    "        denominator += sample1_count + sample2_count\n",
    "    return numerator / denominator"
   ]
  },
  {
   "cell_type": "code",
   "execution_count": null,
   "metadata": {},
   "outputs": [],
   "source": []
  },
  {
   "cell_type": "code",
   "execution_count": null,
   "metadata": {},
   "outputs": [],
   "source": []
  }
 ]
}
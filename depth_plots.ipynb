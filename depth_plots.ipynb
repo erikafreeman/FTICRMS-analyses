{
 "metadata": {
  "language_info": {
   "codemirror_mode": {
    "name": "ipython",
    "version": 3
   },
   "file_extension": ".py",
   "mimetype": "text/x-python",
   "name": "python",
   "nbconvert_exporter": "python",
   "pygments_lexer": "ipython3",
   "version": "3.6.6-final"
  },
  "orig_nbformat": 2,
  "kernelspec": {
   "name": "python3",
   "display_name": "Python 3"
  }
 },
 "nbformat": 4,
 "nbformat_minor": 2,
 "cells": [
  {
   "cell_type": "code",
   "execution_count": 16,
   "metadata": {},
   "outputs": [
    {
     "output_type": "stream",
     "name": "stdout",
     "text": [
      "                  mean          std\nSlope Depth                        \n1S    05      4977.000   477.032494\n      15      5710.125  1380.641615\n      30      5187.625   311.637123\n      60      5002.125  1065.120441\n2B    05      5580.000  1095.305802\n      15      5775.875   713.916249\n      30      5153.250   570.800878\n      60      4675.500  1521.545924\n3F    05      5943.000   810.138671\n      15      5552.750  1075.477004\n      30      4423.125   408.120934\n      60      5234.625   765.969402\n4T    05      5002.000   545.508413\n      15      5346.625  1275.519159\n      30      4963.625  1171.944408\n      60      4099.875  1910.148568\n5ST   Stream  5388.200   969.993333\n"
     ]
    },
    {
     "output_type": "execute_result",
     "data": {
      "text/plain": [
       "<pandas.io.formats.style.Styler at 0x7f04c061b9b0>"
      ],
      "text/html": "<style  type=\"text/css\" >\n#T_130194ae_80c2_11eb_ac69_dba9d47a7a7erow0_col0{\n            width:  10em;\n             height:  80%;\n            background:  linear-gradient(90deg,#266352 47.6%, transparent 47.6%);\n            padding:  15px;\n            border:  3px solid black;\n            width:  200px;\n        }#T_130194ae_80c2_11eb_ac69_dba9d47a7a7erow1_col0{\n            width:  10em;\n             height:  80%;\n            background:  linear-gradient(90deg,#266352 87.4%, transparent 87.4%);\n            padding:  15px;\n            border:  3px solid black;\n            width:  200px;\n        }#T_130194ae_80c2_11eb_ac69_dba9d47a7a7erow2_col0{\n            width:  10em;\n             height:  80%;\n            background:  linear-gradient(90deg,#266352 59.0%, transparent 59.0%);\n            padding:  15px;\n            border:  3px solid black;\n            width:  200px;\n        }#T_130194ae_80c2_11eb_ac69_dba9d47a7a7erow3_col0{\n            width:  10em;\n             height:  80%;\n            background:  linear-gradient(90deg,#266352 49.0%, transparent 49.0%);\n            padding:  15px;\n            border:  3px solid black;\n            width:  200px;\n        }#T_130194ae_80c2_11eb_ac69_dba9d47a7a7erow4_col0{\n            width:  10em;\n             height:  80%;\n            background:  linear-gradient(90deg,#266352 80.3%, transparent 80.3%);\n            padding:  15px;\n            border:  3px solid black;\n            width:  200px;\n        }#T_130194ae_80c2_11eb_ac69_dba9d47a7a7erow5_col0{\n            width:  10em;\n             height:  80%;\n            background:  linear-gradient(90deg,#266352 90.9%, transparent 90.9%);\n            padding:  15px;\n            border:  3px solid black;\n            width:  200px;\n        }#T_130194ae_80c2_11eb_ac69_dba9d47a7a7erow6_col0{\n            width:  10em;\n             height:  80%;\n            background:  linear-gradient(90deg,#266352 57.2%, transparent 57.2%);\n            padding:  15px;\n            border:  3px solid black;\n            width:  200px;\n        }#T_130194ae_80c2_11eb_ac69_dba9d47a7a7erow7_col0{\n            width:  10em;\n             height:  80%;\n            background:  linear-gradient(90deg,#266352 31.2%, transparent 31.2%);\n            padding:  15px;\n            border:  3px solid black;\n            width:  200px;\n        }#T_130194ae_80c2_11eb_ac69_dba9d47a7a7erow8_col0{\n            width:  10em;\n             height:  80%;\n            background:  linear-gradient(90deg,#266352 100.0%, transparent 100.0%);\n            padding:  15px;\n            border:  3px solid black;\n            width:  200px;\n        }#T_130194ae_80c2_11eb_ac69_dba9d47a7a7erow9_col0{\n            width:  10em;\n             height:  80%;\n            background:  linear-gradient(90deg,#266352 78.8%, transparent 78.8%);\n            padding:  15px;\n            border:  3px solid black;\n            width:  200px;\n        }#T_130194ae_80c2_11eb_ac69_dba9d47a7a7erow10_col0{\n            width:  10em;\n             height:  80%;\n            background:  linear-gradient(90deg,#266352 17.5%, transparent 17.5%);\n            padding:  15px;\n            border:  3px solid black;\n            width:  200px;\n        }#T_130194ae_80c2_11eb_ac69_dba9d47a7a7erow11_col0{\n            width:  10em;\n             height:  80%;\n            background:  linear-gradient(90deg,#266352 61.6%, transparent 61.6%);\n            padding:  15px;\n            border:  3px solid black;\n            width:  200px;\n        }#T_130194ae_80c2_11eb_ac69_dba9d47a7a7erow12_col0{\n            width:  10em;\n             height:  80%;\n            background:  linear-gradient(90deg,#266352 48.9%, transparent 48.9%);\n            padding:  15px;\n            border:  3px solid black;\n            width:  200px;\n        }#T_130194ae_80c2_11eb_ac69_dba9d47a7a7erow13_col0{\n            width:  10em;\n             height:  80%;\n            background:  linear-gradient(90deg,#266352 67.6%, transparent 67.6%);\n            padding:  15px;\n            border:  3px solid black;\n            width:  200px;\n        }#T_130194ae_80c2_11eb_ac69_dba9d47a7a7erow14_col0{\n            width:  10em;\n             height:  80%;\n            background:  linear-gradient(90deg,#266352 46.9%, transparent 46.9%);\n            padding:  15px;\n            border:  3px solid black;\n            width:  200px;\n        }#T_130194ae_80c2_11eb_ac69_dba9d47a7a7erow15_col0{\n            width:  10em;\n             height:  80%;\n            padding:  15px;\n            border:  3px solid black;\n            width:  200px;\n        }#T_130194ae_80c2_11eb_ac69_dba9d47a7a7erow16_col0{\n            width:  10em;\n             height:  80%;\n            background:  linear-gradient(90deg,#266352 69.9%, transparent 69.9%);\n            padding:  15px;\n            border:  3px solid black;\n            width:  200px;\n        }</style><table id=\"T_130194ae_80c2_11eb_ac69_dba9d47a7a7e\" ><caption>masses</caption><thead>    <tr>        <th class=\"blank\" ></th>        <th class=\"blank level0\" ></th>        <th class=\"col_heading level0 col0\" >mean</th>    </tr>    <tr>        <th class=\"index_name level0\" >Slope</th>        <th class=\"index_name level1\" >Depth</th>        <th class=\"blank\" ></th>    </tr></thead><tbody>\n                <tr>\n                        <th id=\"T_130194ae_80c2_11eb_ac69_dba9d47a7a7elevel0_row0\" class=\"row_heading level0 row0\" rowspan=4>1S</th>\n                        <th id=\"T_130194ae_80c2_11eb_ac69_dba9d47a7a7elevel1_row0\" class=\"row_heading level1 row0\" >05</th>\n                        <td id=\"T_130194ae_80c2_11eb_ac69_dba9d47a7a7erow0_col0\" class=\"data row0 col0\" >4977.00</td>\n            </tr>\n            <tr>\n                                <th id=\"T_130194ae_80c2_11eb_ac69_dba9d47a7a7elevel1_row1\" class=\"row_heading level1 row1\" >15</th>\n                        <td id=\"T_130194ae_80c2_11eb_ac69_dba9d47a7a7erow1_col0\" class=\"data row1 col0\" >5710.12</td>\n            </tr>\n            <tr>\n                                <th id=\"T_130194ae_80c2_11eb_ac69_dba9d47a7a7elevel1_row2\" class=\"row_heading level1 row2\" >30</th>\n                        <td id=\"T_130194ae_80c2_11eb_ac69_dba9d47a7a7erow2_col0\" class=\"data row2 col0\" >5187.62</td>\n            </tr>\n            <tr>\n                                <th id=\"T_130194ae_80c2_11eb_ac69_dba9d47a7a7elevel1_row3\" class=\"row_heading level1 row3\" >60</th>\n                        <td id=\"T_130194ae_80c2_11eb_ac69_dba9d47a7a7erow3_col0\" class=\"data row3 col0\" >5002.12</td>\n            </tr>\n            <tr>\n                        <th id=\"T_130194ae_80c2_11eb_ac69_dba9d47a7a7elevel0_row4\" class=\"row_heading level0 row4\" rowspan=4>2B</th>\n                        <th id=\"T_130194ae_80c2_11eb_ac69_dba9d47a7a7elevel1_row4\" class=\"row_heading level1 row4\" >05</th>\n                        <td id=\"T_130194ae_80c2_11eb_ac69_dba9d47a7a7erow4_col0\" class=\"data row4 col0\" >5580.00</td>\n            </tr>\n            <tr>\n                                <th id=\"T_130194ae_80c2_11eb_ac69_dba9d47a7a7elevel1_row5\" class=\"row_heading level1 row5\" >15</th>\n                        <td id=\"T_130194ae_80c2_11eb_ac69_dba9d47a7a7erow5_col0\" class=\"data row5 col0\" >5775.88</td>\n            </tr>\n            <tr>\n                                <th id=\"T_130194ae_80c2_11eb_ac69_dba9d47a7a7elevel1_row6\" class=\"row_heading level1 row6\" >30</th>\n                        <td id=\"T_130194ae_80c2_11eb_ac69_dba9d47a7a7erow6_col0\" class=\"data row6 col0\" >5153.25</td>\n            </tr>\n            <tr>\n                                <th id=\"T_130194ae_80c2_11eb_ac69_dba9d47a7a7elevel1_row7\" class=\"row_heading level1 row7\" >60</th>\n                        <td id=\"T_130194ae_80c2_11eb_ac69_dba9d47a7a7erow7_col0\" class=\"data row7 col0\" >4675.50</td>\n            </tr>\n            <tr>\n                        <th id=\"T_130194ae_80c2_11eb_ac69_dba9d47a7a7elevel0_row8\" class=\"row_heading level0 row8\" rowspan=4>3F</th>\n                        <th id=\"T_130194ae_80c2_11eb_ac69_dba9d47a7a7elevel1_row8\" class=\"row_heading level1 row8\" >05</th>\n                        <td id=\"T_130194ae_80c2_11eb_ac69_dba9d47a7a7erow8_col0\" class=\"data row8 col0\" >5943.00</td>\n            </tr>\n            <tr>\n                                <th id=\"T_130194ae_80c2_11eb_ac69_dba9d47a7a7elevel1_row9\" class=\"row_heading level1 row9\" >15</th>\n                        <td id=\"T_130194ae_80c2_11eb_ac69_dba9d47a7a7erow9_col0\" class=\"data row9 col0\" >5552.75</td>\n            </tr>\n            <tr>\n                                <th id=\"T_130194ae_80c2_11eb_ac69_dba9d47a7a7elevel1_row10\" class=\"row_heading level1 row10\" >30</th>\n                        <td id=\"T_130194ae_80c2_11eb_ac69_dba9d47a7a7erow10_col0\" class=\"data row10 col0\" >4423.12</td>\n            </tr>\n            <tr>\n                                <th id=\"T_130194ae_80c2_11eb_ac69_dba9d47a7a7elevel1_row11\" class=\"row_heading level1 row11\" >60</th>\n                        <td id=\"T_130194ae_80c2_11eb_ac69_dba9d47a7a7erow11_col0\" class=\"data row11 col0\" >5234.62</td>\n            </tr>\n            <tr>\n                        <th id=\"T_130194ae_80c2_11eb_ac69_dba9d47a7a7elevel0_row12\" class=\"row_heading level0 row12\" rowspan=4>4T</th>\n                        <th id=\"T_130194ae_80c2_11eb_ac69_dba9d47a7a7elevel1_row12\" class=\"row_heading level1 row12\" >05</th>\n                        <td id=\"T_130194ae_80c2_11eb_ac69_dba9d47a7a7erow12_col0\" class=\"data row12 col0\" >5002.00</td>\n            </tr>\n            <tr>\n                                <th id=\"T_130194ae_80c2_11eb_ac69_dba9d47a7a7elevel1_row13\" class=\"row_heading level1 row13\" >15</th>\n                        <td id=\"T_130194ae_80c2_11eb_ac69_dba9d47a7a7erow13_col0\" class=\"data row13 col0\" >5346.62</td>\n            </tr>\n            <tr>\n                                <th id=\"T_130194ae_80c2_11eb_ac69_dba9d47a7a7elevel1_row14\" class=\"row_heading level1 row14\" >30</th>\n                        <td id=\"T_130194ae_80c2_11eb_ac69_dba9d47a7a7erow14_col0\" class=\"data row14 col0\" >4963.62</td>\n            </tr>\n            <tr>\n                                <th id=\"T_130194ae_80c2_11eb_ac69_dba9d47a7a7elevel1_row15\" class=\"row_heading level1 row15\" >60</th>\n                        <td id=\"T_130194ae_80c2_11eb_ac69_dba9d47a7a7erow15_col0\" class=\"data row15 col0\" >4099.88</td>\n            </tr>\n            <tr>\n                        <th id=\"T_130194ae_80c2_11eb_ac69_dba9d47a7a7elevel0_row16\" class=\"row_heading level0 row16\" >5ST</th>\n                        <th id=\"T_130194ae_80c2_11eb_ac69_dba9d47a7a7elevel1_row16\" class=\"row_heading level1 row16\" >Stream</th>\n                        <td id=\"T_130194ae_80c2_11eb_ac69_dba9d47a7a7erow16_col0\" class=\"data row16 col0\" >5388.20</td>\n            </tr>\n    </tbody></table>"
     },
     "metadata": {},
     "execution_count": 16
    }
   ],
   "source": [
    "#http://readiab.org/book/latest/3/1\n",
    "\n",
    "'''From a bioinformatics perspective, studying biological diversity is centered around a few key pieces of information:\n",
    "\n",
    "A table of the frequencies of certain biological features (e.g., species or OTUs) on a per sample basis.\n",
    "Sample metadata describing exactly what each of the samples is, as well as any relevant technical information.\n",
    "Feature metadata describing each of the features. This can be taxonomic information, for example, but we'll come back to this when we discuss features in more detail (this will be completed as part of #105).\n",
    "Optionally, information on the relationships between the biological features, typically in the form of a phylogenetic tree where tips in the tree correspond to OTUs in the table.'''\n",
    "%matplotlib inline\n",
    "import numpy as np\n",
    "import pandas as pd\n",
    "\n",
    "df= pd.read_csv('/home/erika/Desktop/likeliest_match_mz.csv')\n",
    "newdf = pd.read_csv('/home/erika/Desktop/likeliest_match_abspres.csv')\n",
    "averagetable = newdf.groupby(['Slope', 'Depth'])['n_peaks']\n",
    "averagetable2= averagetable.agg(['mean', 'std'])\n",
    "averagetable= averagetable.agg(['mean'])\n",
    "\n",
    "print(averagetable2)\n",
    "averagetable.style \\\n",
    "  .format('{:.2f}') \\\n",
    "  .bar(align='left', color=['#0c750b', '#266352']) \\\n",
    "  .set_caption('masses') \\\n",
    "  .set_properties(padding=\"15px\", border='3px solid black', width='200px')\n",
    "\n"
   ]
  },
  {
   "cell_type": "code",
   "execution_count": 17,
   "metadata": {
    "tags": []
   },
   "outputs": [
    {
     "output_type": "error",
     "ename": "TypeError",
     "evalue": "'<' not supported between instances of 'str' and 'int'",
     "traceback": [
      "\u001b[0;31m---------------------------------------------------------------------------\u001b[0m",
      "\u001b[0;31mTypeError\u001b[0m                                 Traceback (most recent call last)",
      "\u001b[0;32m<ipython-input-17-30137775b132>\u001b[0m in \u001b[0;36m<module>\u001b[0;34m()\u001b[0m\n\u001b[1;32m     22\u001b[0m \u001b[0;34m\u001b[0m\u001b[0m\n\u001b[1;32m     23\u001b[0m \u001b[0;34m\u001b[0m\u001b[0m\n\u001b[0;32m---> 24\u001b[0;31m \u001b[0madiv_obs_otus\u001b[0m \u001b[0;34m=\u001b[0m \u001b[0malpha_diversity\u001b[0m\u001b[0;34m(\u001b[0m\u001b[0;34m'observed_otus'\u001b[0m\u001b[0;34m,\u001b[0m \u001b[0mdata2\u001b[0m\u001b[0;34m,\u001b[0m \u001b[0mSampleID\u001b[0m\u001b[0;34m)\u001b[0m\u001b[0;34m\u001b[0m\u001b[0m\n\u001b[0m\u001b[1;32m     25\u001b[0m \u001b[0madiv_obs\u001b[0m\u001b[0;34m=\u001b[0m \u001b[0mSamp\u001b[0m\u001b[0;34m.\u001b[0m\u001b[0mapply\u001b[0m\u001b[0;34m(\u001b[0m\u001b[0madiv\u001b[0m\u001b[0;34m)\u001b[0m\u001b[0;34m\u001b[0m\u001b[0m\n\u001b[1;32m     26\u001b[0m \u001b[0;34m\u001b[0m\u001b[0m\n",
      "\u001b[0;32m~/anaconda3/lib/python3.6/site-packages/skbio/diversity/_driver.py\u001b[0m in \u001b[0;36malpha_diversity\u001b[0;34m(metric, counts, ids, validate, **kwargs)\u001b[0m\n\u001b[1;32m    163\u001b[0m \u001b[0;34m\u001b[0m\u001b[0m\n\u001b[1;32m    164\u001b[0m     \u001b[0;32mif\u001b[0m \u001b[0mvalidate\u001b[0m\u001b[0;34m:\u001b[0m\u001b[0;34m\u001b[0m\u001b[0m\n\u001b[0;32m--> 165\u001b[0;31m         \u001b[0mcounts\u001b[0m \u001b[0;34m=\u001b[0m \u001b[0m_validate_counts_matrix\u001b[0m\u001b[0;34m(\u001b[0m\u001b[0mcounts\u001b[0m\u001b[0;34m,\u001b[0m \u001b[0mids\u001b[0m\u001b[0;34m=\u001b[0m\u001b[0mids\u001b[0m\u001b[0;34m)\u001b[0m\u001b[0;34m\u001b[0m\u001b[0m\n\u001b[0m\u001b[1;32m    166\u001b[0m \u001b[0;34m\u001b[0m\u001b[0m\n\u001b[1;32m    167\u001b[0m     \u001b[0;32mif\u001b[0m \u001b[0mmetric\u001b[0m \u001b[0;34m==\u001b[0m \u001b[0;34m'faith_pd'\u001b[0m\u001b[0;34m:\u001b[0m\u001b[0;34m\u001b[0m\u001b[0m\n",
      "\u001b[0;32m~/anaconda3/lib/python3.6/site-packages/skbio/diversity/_util.py\u001b[0m in \u001b[0;36m_validate_counts_matrix\u001b[0;34m(counts, ids, suppress_cast)\u001b[0m\n\u001b[1;32m     53\u001b[0m     \u001b[0mlens\u001b[0m \u001b[0;34m=\u001b[0m \u001b[0;34m[\u001b[0m\u001b[0;34m]\u001b[0m\u001b[0;34m\u001b[0m\u001b[0m\n\u001b[1;32m     54\u001b[0m     \u001b[0;32mfor\u001b[0m \u001b[0mv\u001b[0m \u001b[0;32min\u001b[0m \u001b[0mcounts\u001b[0m\u001b[0;34m:\u001b[0m\u001b[0;34m\u001b[0m\u001b[0m\n\u001b[0;32m---> 55\u001b[0;31m         \u001b[0mresults\u001b[0m\u001b[0;34m.\u001b[0m\u001b[0mappend\u001b[0m\u001b[0;34m(\u001b[0m\u001b[0m_validate_counts_vector\u001b[0m\u001b[0;34m(\u001b[0m\u001b[0mv\u001b[0m\u001b[0;34m,\u001b[0m \u001b[0msuppress_cast\u001b[0m\u001b[0;34m)\u001b[0m\u001b[0;34m)\u001b[0m\u001b[0;34m\u001b[0m\u001b[0m\n\u001b[0m\u001b[1;32m     56\u001b[0m         \u001b[0mlens\u001b[0m\u001b[0;34m.\u001b[0m\u001b[0mappend\u001b[0m\u001b[0;34m(\u001b[0m\u001b[0mlen\u001b[0m\u001b[0;34m(\u001b[0m\u001b[0mv\u001b[0m\u001b[0;34m)\u001b[0m\u001b[0;34m)\u001b[0m\u001b[0;34m\u001b[0m\u001b[0m\n\u001b[1;32m     57\u001b[0m     \u001b[0;32mif\u001b[0m \u001b[0mlen\u001b[0m\u001b[0;34m(\u001b[0m\u001b[0mset\u001b[0m\u001b[0;34m(\u001b[0m\u001b[0mlens\u001b[0m\u001b[0;34m)\u001b[0m\u001b[0;34m)\u001b[0m \u001b[0;34m>\u001b[0m \u001b[0;36m1\u001b[0m\u001b[0;34m:\u001b[0m\u001b[0;34m\u001b[0m\u001b[0m\n",
      "\u001b[0;32m~/anaconda3/lib/python3.6/site-packages/skbio/diversity/_util.py\u001b[0m in \u001b[0;36m_validate_counts_vector\u001b[0;34m(counts, suppress_cast)\u001b[0m\n\u001b[1;32m     26\u001b[0m     \u001b[0;32mif\u001b[0m \u001b[0mcounts\u001b[0m\u001b[0;34m.\u001b[0m\u001b[0mndim\u001b[0m \u001b[0;34m!=\u001b[0m \u001b[0;36m1\u001b[0m\u001b[0;34m:\u001b[0m\u001b[0;34m\u001b[0m\u001b[0m\n\u001b[1;32m     27\u001b[0m         \u001b[0;32mraise\u001b[0m \u001b[0mValueError\u001b[0m\u001b[0;34m(\u001b[0m\u001b[0;34m\"Only 1-D vectors are supported.\"\u001b[0m\u001b[0;34m)\u001b[0m\u001b[0;34m\u001b[0m\u001b[0m\n\u001b[0;32m---> 28\u001b[0;31m     \u001b[0;32melif\u001b[0m \u001b[0;34m(\u001b[0m\u001b[0mcounts\u001b[0m \u001b[0;34m<\u001b[0m \u001b[0;36m0\u001b[0m\u001b[0;34m)\u001b[0m\u001b[0;34m.\u001b[0m\u001b[0many\u001b[0m\u001b[0;34m(\u001b[0m\u001b[0;34m)\u001b[0m\u001b[0;34m:\u001b[0m\u001b[0;34m\u001b[0m\u001b[0m\n\u001b[0m\u001b[1;32m     29\u001b[0m         \u001b[0;32mraise\u001b[0m \u001b[0mValueError\u001b[0m\u001b[0;34m(\u001b[0m\u001b[0;34m\"Counts vector cannot contain negative values.\"\u001b[0m\u001b[0;34m)\u001b[0m\u001b[0;34m\u001b[0m\u001b[0m\n\u001b[1;32m     30\u001b[0m \u001b[0;34m\u001b[0m\u001b[0m\n",
      "\u001b[0;31mTypeError\u001b[0m: '<' not supported between instances of 'str' and 'int'"
     ]
    }
   ],
   "source": [
    "import numpy\n",
    "import pandas as pd\n",
    "import matplotlib.pyplot as plt\n",
    "from sklearn.decomposition import PCA\n",
    "import seaborn as sns\n",
    "from mpl_toolkits.mplot3d import axes3d, Axes3D\n",
    "from skbio.diversity import alpha_diversity\n",
    "\n",
    "'''\n",
    "the docs for this version are here:\n",
    "http://scikit-bio.org/docs/latest/diversity.html\n",
    "'''\n",
    "%matplotlib inline\n",
    "\n",
    "df= pd.read_csv('/home/erika/Desktop/likeliest_match_mz.csv')\n",
    "newdf = pd.read_csv('/home/erika/Desktop/likeliest_match_abspres.csv')\n",
    "\n",
    "Samp = df.copy()\n",
    "Samp.fillna(0, inplace=True)\n",
    "SampleID = list(Samp.columns)\n",
    "data2 = SampT.values\n",
    "\n",
    "\n",
    "adiv_obs_otus = alpha_diversity('observed_otus', data2, SampleID)\n",
    "adiv_obs= Samp.apply(adiv)\n",
    "\n",
    "df1 = pd.DataFrame(adiv_obs_otus)\n",
    "df1.hist()\n",
    "#TransForm = Samp.T\n",
    "\n",
    "# TransForm.columns = TransForm.iloc[0]\n",
    "# TransForm = pd.DataFrame.drop(TransForm, 'mz', axis=0)\n",
    "# TransForm = TransForm.fillna(0)\n",
    "# TransForm = TransForm.reset_index()\n",
    "# new = TransForm['index'].str.split('(\\d+)([A-Za-z]+)', n = 3, expand = True) \n",
    "# new['SiteName'] = new[0]+ new[1] \n",
    "# new = new.rename(columns={2: 'Position', 3: 'Depth'})\n",
    "# ids = pd.DataFrame.drop(new, [0,1], axis=1)\n",
    "# OTU_equivalent = pd.DataFrame.drop(TransForm, 'index', axis=1) \n",
    "\n",
    "\n",
    "#averagetable = newdf.groupby(['Depth'])['n_peaks'].mean()\n",
    "#print(averagetable.reset_index())\n",
    "\n",
    "#bc_dm = beta_diversity(\"braycurtis\", newdf, ids)\n",
    "#print(bc_dm)\n"
   ]
  },
  {
   "cell_type": "code",
   "execution_count": null,
   "metadata": {},
   "outputs": [],
   "source": [
    "from skbio.diversity import alpha_diversity\n"
   ]
  },
  {
   "cell_type": "code",
   "execution_count": null,
   "metadata": {},
   "outputs": [],
   "source": []
  }
 ]
}
{
 "metadata": {
  "language_info": {
   "codemirror_mode": {
    "name": "ipython",
    "version": 3
   },
   "file_extension": ".py",
   "mimetype": "text/x-python",
   "name": "python",
   "nbconvert_exporter": "python",
   "pygments_lexer": "ipython3",
   "version": "3.6.6-final"
  },
  "orig_nbformat": 2,
  "kernelspec": {
   "name": "python3",
   "display_name": "Python 3"
  }
 },
 "nbformat": 4,
 "nbformat_minor": 2,
 "cells": [
  {
   "cell_type": "code",
   "execution_count": 1,
   "metadata": {},
   "outputs": [
    {
     "output_type": "stream",
     "name": "stdout",
     "text": [
      "                  mean          std\nSlope Depth                        \n1S    05      4977.000   477.032494\n      15      5710.125  1380.641615\n      30      5187.625   311.637123\n      60      5002.125  1065.120441\n2B    05      5580.000  1095.305802\n      15      5775.875   713.916249\n      30      5153.250   570.800878\n      60      4675.500  1521.545924\n3F    05      5943.000   810.138671\n      15      5552.750  1075.477004\n      30      4423.125   408.120934\n      60      5234.625   765.969402\n4T    05      5002.000   545.508413\n      15      5346.625  1275.519159\n      30      4963.625  1171.944408\n      60      4099.875  1910.148568\n5ST   Stream  5388.200   969.993333\n"
     ]
    },
    {
     "output_type": "execute_result",
     "data": {
      "text/plain": [
       "<pandas.io.formats.style.Styler at 0x7ff3f12afd68>"
      ],
      "text/html": "<style  type=\"text/css\" >\n    #T_c9830a22_7c31_11eb_9bc6_495d8a591bffrow0_col0 {\n            width:  10em;\n             height:  80%;\n            background:  linear-gradient(90deg,#266352 47.6%, transparent 0%);\n            padding:  15px;\n            border:  3px solid black;\n            width:  200px;\n        }    #T_c9830a22_7c31_11eb_9bc6_495d8a591bffrow1_col0 {\n            width:  10em;\n             height:  80%;\n            background:  linear-gradient(90deg,#266352 87.4%, transparent 0%);\n            padding:  15px;\n            border:  3px solid black;\n            width:  200px;\n        }    #T_c9830a22_7c31_11eb_9bc6_495d8a591bffrow2_col0 {\n            width:  10em;\n             height:  80%;\n            background:  linear-gradient(90deg,#266352 59.0%, transparent 0%);\n            padding:  15px;\n            border:  3px solid black;\n            width:  200px;\n        }    #T_c9830a22_7c31_11eb_9bc6_495d8a591bffrow3_col0 {\n            width:  10em;\n             height:  80%;\n            background:  linear-gradient(90deg,#266352 49.0%, transparent 0%);\n            padding:  15px;\n            border:  3px solid black;\n            width:  200px;\n        }    #T_c9830a22_7c31_11eb_9bc6_495d8a591bffrow4_col0 {\n            width:  10em;\n             height:  80%;\n            background:  linear-gradient(90deg,#266352 80.3%, transparent 0%);\n            padding:  15px;\n            border:  3px solid black;\n            width:  200px;\n        }    #T_c9830a22_7c31_11eb_9bc6_495d8a591bffrow5_col0 {\n            width:  10em;\n             height:  80%;\n            background:  linear-gradient(90deg,#266352 90.9%, transparent 0%);\n            padding:  15px;\n            border:  3px solid black;\n            width:  200px;\n        }    #T_c9830a22_7c31_11eb_9bc6_495d8a591bffrow6_col0 {\n            width:  10em;\n             height:  80%;\n            background:  linear-gradient(90deg,#266352 57.2%, transparent 0%);\n            padding:  15px;\n            border:  3px solid black;\n            width:  200px;\n        }    #T_c9830a22_7c31_11eb_9bc6_495d8a591bffrow7_col0 {\n            width:  10em;\n             height:  80%;\n            background:  linear-gradient(90deg,#266352 31.2%, transparent 0%);\n            padding:  15px;\n            border:  3px solid black;\n            width:  200px;\n        }    #T_c9830a22_7c31_11eb_9bc6_495d8a591bffrow8_col0 {\n            width:  10em;\n             height:  80%;\n            background:  linear-gradient(90deg,#266352 100.0%, transparent 0%);\n            padding:  15px;\n            border:  3px solid black;\n            width:  200px;\n        }    #T_c9830a22_7c31_11eb_9bc6_495d8a591bffrow9_col0 {\n            width:  10em;\n             height:  80%;\n            background:  linear-gradient(90deg,#266352 78.8%, transparent 0%);\n            padding:  15px;\n            border:  3px solid black;\n            width:  200px;\n        }    #T_c9830a22_7c31_11eb_9bc6_495d8a591bffrow10_col0 {\n            width:  10em;\n             height:  80%;\n            background:  linear-gradient(90deg,#266352 17.5%, transparent 0%);\n            padding:  15px;\n            border:  3px solid black;\n            width:  200px;\n        }    #T_c9830a22_7c31_11eb_9bc6_495d8a591bffrow11_col0 {\n            width:  10em;\n             height:  80%;\n            background:  linear-gradient(90deg,#266352 61.6%, transparent 0%);\n            padding:  15px;\n            border:  3px solid black;\n            width:  200px;\n        }    #T_c9830a22_7c31_11eb_9bc6_495d8a591bffrow12_col0 {\n            width:  10em;\n             height:  80%;\n            background:  linear-gradient(90deg,#266352 48.9%, transparent 0%);\n            padding:  15px;\n            border:  3px solid black;\n            width:  200px;\n        }    #T_c9830a22_7c31_11eb_9bc6_495d8a591bffrow13_col0 {\n            width:  10em;\n             height:  80%;\n            background:  linear-gradient(90deg,#266352 67.6%, transparent 0%);\n            padding:  15px;\n            border:  3px solid black;\n            width:  200px;\n        }    #T_c9830a22_7c31_11eb_9bc6_495d8a591bffrow14_col0 {\n            width:  10em;\n             height:  80%;\n            background:  linear-gradient(90deg,#266352 46.9%, transparent 0%);\n            padding:  15px;\n            border:  3px solid black;\n            width:  200px;\n        }    #T_c9830a22_7c31_11eb_9bc6_495d8a591bffrow15_col0 {\n            width:  10em;\n             height:  80%;\n            padding:  15px;\n            border:  3px solid black;\n            width:  200px;\n        }    #T_c9830a22_7c31_11eb_9bc6_495d8a591bffrow16_col0 {\n            width:  10em;\n             height:  80%;\n            background:  linear-gradient(90deg,#266352 69.9%, transparent 0%);\n            padding:  15px;\n            border:  3px solid black;\n            width:  200px;\n        }</style>  \n<table id=\"T_c9830a22_7c31_11eb_9bc6_495d8a591bff\" ><caption>masses</caption> \n<thead>    <tr> \n        <th class=\"blank\" ></th> \n        <th class=\"blank level0\" ></th> \n        <th class=\"col_heading level0 col0\" >mean</th> \n    </tr>    <tr> \n        <th class=\"index_name level0\" >Slope</th> \n        <th class=\"index_name level1\" >Depth</th> \n        <th class=\"blank\" ></th> \n    </tr></thead> \n<tbody>    <tr> \n        <th id=\"T_c9830a22_7c31_11eb_9bc6_495d8a591bfflevel0_row0\" class=\"row_heading level0 row0\" rowspan=4>1S</th> \n        <th id=\"T_c9830a22_7c31_11eb_9bc6_495d8a591bfflevel1_row0\" class=\"row_heading level1 row0\" >05</th> \n        <td id=\"T_c9830a22_7c31_11eb_9bc6_495d8a591bffrow0_col0\" class=\"data row0 col0\" >4977.00</td> \n    </tr>    <tr> \n        <th id=\"T_c9830a22_7c31_11eb_9bc6_495d8a591bfflevel1_row1\" class=\"row_heading level1 row1\" >15</th> \n        <td id=\"T_c9830a22_7c31_11eb_9bc6_495d8a591bffrow1_col0\" class=\"data row1 col0\" >5710.12</td> \n    </tr>    <tr> \n        <th id=\"T_c9830a22_7c31_11eb_9bc6_495d8a591bfflevel1_row2\" class=\"row_heading level1 row2\" >30</th> \n        <td id=\"T_c9830a22_7c31_11eb_9bc6_495d8a591bffrow2_col0\" class=\"data row2 col0\" >5187.62</td> \n    </tr>    <tr> \n        <th id=\"T_c9830a22_7c31_11eb_9bc6_495d8a591bfflevel1_row3\" class=\"row_heading level1 row3\" >60</th> \n        <td id=\"T_c9830a22_7c31_11eb_9bc6_495d8a591bffrow3_col0\" class=\"data row3 col0\" >5002.12</td> \n    </tr>    <tr> \n        <th id=\"T_c9830a22_7c31_11eb_9bc6_495d8a591bfflevel0_row4\" class=\"row_heading level0 row4\" rowspan=4>2B</th> \n        <th id=\"T_c9830a22_7c31_11eb_9bc6_495d8a591bfflevel1_row4\" class=\"row_heading level1 row4\" >05</th> \n        <td id=\"T_c9830a22_7c31_11eb_9bc6_495d8a591bffrow4_col0\" class=\"data row4 col0\" >5580.00</td> \n    </tr>    <tr> \n        <th id=\"T_c9830a22_7c31_11eb_9bc6_495d8a591bfflevel1_row5\" class=\"row_heading level1 row5\" >15</th> \n        <td id=\"T_c9830a22_7c31_11eb_9bc6_495d8a591bffrow5_col0\" class=\"data row5 col0\" >5775.88</td> \n    </tr>    <tr> \n        <th id=\"T_c9830a22_7c31_11eb_9bc6_495d8a591bfflevel1_row6\" class=\"row_heading level1 row6\" >30</th> \n        <td id=\"T_c9830a22_7c31_11eb_9bc6_495d8a591bffrow6_col0\" class=\"data row6 col0\" >5153.25</td> \n    </tr>    <tr> \n        <th id=\"T_c9830a22_7c31_11eb_9bc6_495d8a591bfflevel1_row7\" class=\"row_heading level1 row7\" >60</th> \n        <td id=\"T_c9830a22_7c31_11eb_9bc6_495d8a591bffrow7_col0\" class=\"data row7 col0\" >4675.50</td> \n    </tr>    <tr> \n        <th id=\"T_c9830a22_7c31_11eb_9bc6_495d8a591bfflevel0_row8\" class=\"row_heading level0 row8\" rowspan=4>3F</th> \n        <th id=\"T_c9830a22_7c31_11eb_9bc6_495d8a591bfflevel1_row8\" class=\"row_heading level1 row8\" >05</th> \n        <td id=\"T_c9830a22_7c31_11eb_9bc6_495d8a591bffrow8_col0\" class=\"data row8 col0\" >5943.00</td> \n    </tr>    <tr> \n        <th id=\"T_c9830a22_7c31_11eb_9bc6_495d8a591bfflevel1_row9\" class=\"row_heading level1 row9\" >15</th> \n        <td id=\"T_c9830a22_7c31_11eb_9bc6_495d8a591bffrow9_col0\" class=\"data row9 col0\" >5552.75</td> \n    </tr>    <tr> \n        <th id=\"T_c9830a22_7c31_11eb_9bc6_495d8a591bfflevel1_row10\" class=\"row_heading level1 row10\" >30</th> \n        <td id=\"T_c9830a22_7c31_11eb_9bc6_495d8a591bffrow10_col0\" class=\"data row10 col0\" >4423.12</td> \n    </tr>    <tr> \n        <th id=\"T_c9830a22_7c31_11eb_9bc6_495d8a591bfflevel1_row11\" class=\"row_heading level1 row11\" >60</th> \n        <td id=\"T_c9830a22_7c31_11eb_9bc6_495d8a591bffrow11_col0\" class=\"data row11 col0\" >5234.62</td> \n    </tr>    <tr> \n        <th id=\"T_c9830a22_7c31_11eb_9bc6_495d8a591bfflevel0_row12\" class=\"row_heading level0 row12\" rowspan=4>4T</th> \n        <th id=\"T_c9830a22_7c31_11eb_9bc6_495d8a591bfflevel1_row12\" class=\"row_heading level1 row12\" >05</th> \n        <td id=\"T_c9830a22_7c31_11eb_9bc6_495d8a591bffrow12_col0\" class=\"data row12 col0\" >5002.00</td> \n    </tr>    <tr> \n        <th id=\"T_c9830a22_7c31_11eb_9bc6_495d8a591bfflevel1_row13\" class=\"row_heading level1 row13\" >15</th> \n        <td id=\"T_c9830a22_7c31_11eb_9bc6_495d8a591bffrow13_col0\" class=\"data row13 col0\" >5346.62</td> \n    </tr>    <tr> \n        <th id=\"T_c9830a22_7c31_11eb_9bc6_495d8a591bfflevel1_row14\" class=\"row_heading level1 row14\" >30</th> \n        <td id=\"T_c9830a22_7c31_11eb_9bc6_495d8a591bffrow14_col0\" class=\"data row14 col0\" >4963.62</td> \n    </tr>    <tr> \n        <th id=\"T_c9830a22_7c31_11eb_9bc6_495d8a591bfflevel1_row15\" class=\"row_heading level1 row15\" >60</th> \n        <td id=\"T_c9830a22_7c31_11eb_9bc6_495d8a591bffrow15_col0\" class=\"data row15 col0\" >4099.88</td> \n    </tr>    <tr> \n        <th id=\"T_c9830a22_7c31_11eb_9bc6_495d8a591bfflevel0_row16\" class=\"row_heading level0 row16\" >5ST</th> \n        <th id=\"T_c9830a22_7c31_11eb_9bc6_495d8a591bfflevel1_row16\" class=\"row_heading level1 row16\" >Stream</th> \n        <td id=\"T_c9830a22_7c31_11eb_9bc6_495d8a591bffrow16_col0\" class=\"data row16 col0\" >5388.20</td> \n    </tr></tbody> \n</table> "
     },
     "metadata": {},
     "execution_count": 1
    }
   ],
   "source": [
    "#http://readiab.org/book/latest/3/1\n",
    "\n",
    "'''From a bioinformatics perspective, studying biological diversity is centered around a few key pieces of information:\n",
    "\n",
    "A table of the frequencies of certain biological features (e.g., species or OTUs) on a per sample basis.\n",
    "Sample metadata describing exactly what each of the samples is, as well as any relevant technical information.\n",
    "Feature metadata describing each of the features. This can be taxonomic information, for example, but we'll come back to this when we discuss features in more detail (this will be completed as part of #105).\n",
    "Optionally, information on the relationships between the biological features, typically in the form of a phylogenetic tree where tips in the tree correspond to OTUs in the table.'''\n",
    "%matplotlib inline\n",
    "import numpy as np\n",
    "import pandas as pd\n",
    "\n",
    "df= pd.read_csv('/home/erika/Desktop/likeliest_match_mz.csv')\n",
    "newdf = pd.read_csv('/home/erika/Desktop/likeliest_match_abspres.csv')\n",
    "\n",
    "averagetable = newdf.groupby(['Slope', 'Depth'])['n_peaks']\n",
    "averagetable2= averagetable.agg(['mean', 'std'])\n",
    "averagetable= averagetable.agg(['mean'])\n",
    "\n",
    "print(averagetable2)\n",
    "averagetable.style \\\n",
    "  .format('{:.2f}') \\\n",
    "  .bar(align='left', color=['#0c750b', '#266352']) \\\n",
    "  .set_caption('masses') \\\n",
    "  .set_properties(padding=\"15px\", border='3px solid black', width='200px')\n",
    "\n"
   ]
  },
  {
   "cell_type": "code",
   "execution_count": 2,
   "metadata": {},
   "outputs": [
    {
     "output_type": "error",
     "ename": "ModuleNotFoundError",
     "evalue": "No module named 'numpy.testing.nosetester'",
     "traceback": [
      "\u001b[0;31m---------------------------------------------------------------------------\u001b[0m",
      "\u001b[0;31mModuleNotFoundError\u001b[0m                       Traceback (most recent call last)",
      "\u001b[0;32m<ipython-input-2-46dd41686c12>\u001b[0m in \u001b[0;36m<module>\u001b[0;34m()\u001b[0m\n\u001b[1;32m      1\u001b[0m \u001b[0;32mimport\u001b[0m \u001b[0mnumpy\u001b[0m\u001b[0;34m\u001b[0m\u001b[0m\n\u001b[1;32m      2\u001b[0m \u001b[0;32mimport\u001b[0m \u001b[0mpandas\u001b[0m \u001b[0;32mas\u001b[0m \u001b[0mpd\u001b[0m\u001b[0;34m\u001b[0m\u001b[0m\n\u001b[0;32m----> 3\u001b[0;31m \u001b[0;32mfrom\u001b[0m \u001b[0mskbio\u001b[0m\u001b[0;34m.\u001b[0m\u001b[0mdiversity\u001b[0m \u001b[0;32mimport\u001b[0m \u001b[0malpha_diversity\u001b[0m\u001b[0;34m\u001b[0m\u001b[0m\n\u001b[0m\u001b[1;32m      4\u001b[0m \u001b[0mdf\u001b[0m\u001b[0;34m=\u001b[0m \u001b[0mpd\u001b[0m\u001b[0;34m.\u001b[0m\u001b[0mread_csv\u001b[0m\u001b[0;34m(\u001b[0m\u001b[0;34m'/home/erika/Desktop/likeliest_match_mz.csv'\u001b[0m\u001b[0;34m)\u001b[0m\u001b[0;34m\u001b[0m\u001b[0m\n\u001b[1;32m      5\u001b[0m \u001b[0mnewdf\u001b[0m \u001b[0;34m=\u001b[0m \u001b[0mpd\u001b[0m\u001b[0;34m.\u001b[0m\u001b[0mread_csv\u001b[0m\u001b[0;34m(\u001b[0m\u001b[0;34m'/home/erika/Desktop/likeliest_match_abspres.csv'\u001b[0m\u001b[0;34m)\u001b[0m\u001b[0;34m\u001b[0m\u001b[0m\n",
      "\u001b[0;32m~/anaconda3/lib/python3.6/site-packages/skbio/__init__.py\u001b[0m in \u001b[0;36m<module>\u001b[0;34m()\u001b[0m\n\u001b[1;32m     11\u001b[0m \u001b[0;34m\u001b[0m\u001b[0m\n\u001b[1;32m     12\u001b[0m \u001b[0;31m# Add skbio.io to sys.modules to prevent cycles in our imports\u001b[0m\u001b[0;34m\u001b[0m\u001b[0;34m\u001b[0m\u001b[0m\n\u001b[0;32m---> 13\u001b[0;31m \u001b[0;32mimport\u001b[0m \u001b[0mskbio\u001b[0m\u001b[0;34m.\u001b[0m\u001b[0mio\u001b[0m  \u001b[0;31m# noqa\u001b[0m\u001b[0;34m\u001b[0m\u001b[0m\n\u001b[0m\u001b[1;32m     14\u001b[0m \u001b[0;31m# imports included for convenience\u001b[0m\u001b[0;34m\u001b[0m\u001b[0;34m\u001b[0m\u001b[0m\n\u001b[1;32m     15\u001b[0m \u001b[0;32mfrom\u001b[0m \u001b[0mskbio\u001b[0m\u001b[0;34m.\u001b[0m\u001b[0msequence\u001b[0m \u001b[0;32mimport\u001b[0m \u001b[0mSequence\u001b[0m\u001b[0;34m,\u001b[0m \u001b[0mDNA\u001b[0m\u001b[0;34m,\u001b[0m \u001b[0mRNA\u001b[0m\u001b[0;34m,\u001b[0m \u001b[0mProtein\u001b[0m\u001b[0;34m,\u001b[0m \u001b[0mGeneticCode\u001b[0m\u001b[0;34m\u001b[0m\u001b[0m\n",
      "\u001b[0;32m~/anaconda3/lib/python3.6/site-packages/skbio/io/__init__.py\u001b[0m in \u001b[0;36m<module>\u001b[0;34m()\u001b[0m\n\u001b[1;32m    242\u001b[0m \u001b[0mimport_module\u001b[0m\u001b[0;34m(\u001b[0m\u001b[0;34m'skbio.io.format.blast6'\u001b[0m\u001b[0;34m)\u001b[0m\u001b[0;34m\u001b[0m\u001b[0m\n\u001b[1;32m    243\u001b[0m \u001b[0mimport_module\u001b[0m\u001b[0;34m(\u001b[0m\u001b[0;34m'skbio.io.format.blast7'\u001b[0m\u001b[0;34m)\u001b[0m\u001b[0;34m\u001b[0m\u001b[0m\n\u001b[0;32m--> 244\u001b[0;31m \u001b[0mimport_module\u001b[0m\u001b[0;34m(\u001b[0m\u001b[0;34m'skbio.io.format.clustal'\u001b[0m\u001b[0;34m)\u001b[0m\u001b[0;34m\u001b[0m\u001b[0m\n\u001b[0m\u001b[1;32m    245\u001b[0m \u001b[0mimport_module\u001b[0m\u001b[0;34m(\u001b[0m\u001b[0;34m'skbio.io.format.embl'\u001b[0m\u001b[0;34m)\u001b[0m\u001b[0;34m\u001b[0m\u001b[0m\n\u001b[1;32m    246\u001b[0m \u001b[0mimport_module\u001b[0m\u001b[0;34m(\u001b[0m\u001b[0;34m'skbio.io.format.fasta'\u001b[0m\u001b[0;34m)\u001b[0m\u001b[0;34m\u001b[0m\u001b[0m\n",
      "\u001b[0;32m~/anaconda3/lib/python3.6/importlib/__init__.py\u001b[0m in \u001b[0;36mimport_module\u001b[0;34m(name, package)\u001b[0m\n\u001b[1;32m    124\u001b[0m                 \u001b[0;32mbreak\u001b[0m\u001b[0;34m\u001b[0m\u001b[0m\n\u001b[1;32m    125\u001b[0m             \u001b[0mlevel\u001b[0m \u001b[0;34m+=\u001b[0m \u001b[0;36m1\u001b[0m\u001b[0;34m\u001b[0m\u001b[0m\n\u001b[0;32m--> 126\u001b[0;31m     \u001b[0;32mreturn\u001b[0m \u001b[0m_bootstrap\u001b[0m\u001b[0;34m.\u001b[0m\u001b[0m_gcd_import\u001b[0m\u001b[0;34m(\u001b[0m\u001b[0mname\u001b[0m\u001b[0;34m[\u001b[0m\u001b[0mlevel\u001b[0m\u001b[0;34m:\u001b[0m\u001b[0;34m]\u001b[0m\u001b[0;34m,\u001b[0m \u001b[0mpackage\u001b[0m\u001b[0;34m,\u001b[0m \u001b[0mlevel\u001b[0m\u001b[0;34m)\u001b[0m\u001b[0;34m\u001b[0m\u001b[0m\n\u001b[0m\u001b[1;32m    127\u001b[0m \u001b[0;34m\u001b[0m\u001b[0m\n\u001b[1;32m    128\u001b[0m \u001b[0;34m\u001b[0m\u001b[0m\n",
      "\u001b[0;32m~/anaconda3/lib/python3.6/site-packages/skbio/io/format/clustal.py\u001b[0m in \u001b[0;36m<module>\u001b[0;34m()\u001b[0m\n\u001b[1;32m    146\u001b[0m \u001b[0;34m\u001b[0m\u001b[0m\n\u001b[1;32m    147\u001b[0m \u001b[0;32mfrom\u001b[0m \u001b[0mskbio\u001b[0m\u001b[0;34m.\u001b[0m\u001b[0mio\u001b[0m \u001b[0;32mimport\u001b[0m \u001b[0mcreate_format\u001b[0m\u001b[0;34m,\u001b[0m \u001b[0mClustalFormatError\u001b[0m\u001b[0;34m\u001b[0m\u001b[0m\n\u001b[0;32m--> 148\u001b[0;31m \u001b[0;32mfrom\u001b[0m \u001b[0mskbio\u001b[0m\u001b[0;34m.\u001b[0m\u001b[0malignment\u001b[0m \u001b[0;32mimport\u001b[0m \u001b[0mTabularMSA\u001b[0m\u001b[0;34m\u001b[0m\u001b[0m\n\u001b[0m\u001b[1;32m    149\u001b[0m \u001b[0;34m\u001b[0m\u001b[0m\n\u001b[1;32m    150\u001b[0m \u001b[0;34m\u001b[0m\u001b[0m\n",
      "\u001b[0;32m~/anaconda3/lib/python3.6/site-packages/skbio/alignment/__init__.py\u001b[0m in \u001b[0;36m<module>\u001b[0;34m()\u001b[0m\n\u001b[1;32m    203\u001b[0m \u001b[0;32mfrom\u001b[0m \u001b[0mskbio\u001b[0m\u001b[0;34m.\u001b[0m\u001b[0mutil\u001b[0m \u001b[0;32mimport\u001b[0m \u001b[0mTestRunner\u001b[0m\u001b[0;34m\u001b[0m\u001b[0m\n\u001b[1;32m    204\u001b[0m \u001b[0;34m\u001b[0m\u001b[0m\n\u001b[0;32m--> 205\u001b[0;31m \u001b[0;32mfrom\u001b[0m \u001b[0;34m.\u001b[0m\u001b[0m_tabular_msa\u001b[0m \u001b[0;32mimport\u001b[0m \u001b[0mTabularMSA\u001b[0m\u001b[0;34m\u001b[0m\u001b[0m\n\u001b[0m\u001b[1;32m    206\u001b[0m from ._pairwise import (\n\u001b[1;32m    207\u001b[0m     \u001b[0mlocal_pairwise_align_nucleotide\u001b[0m\u001b[0;34m,\u001b[0m \u001b[0mlocal_pairwise_align_protein\u001b[0m\u001b[0;34m,\u001b[0m\u001b[0;34m\u001b[0m\u001b[0m\n",
      "\u001b[0;32m~/anaconda3/lib/python3.6/site-packages/skbio/alignment/_tabular_msa.py\u001b[0m in \u001b[0;36m<module>\u001b[0;34m()\u001b[0m\n\u001b[1;32m     12\u001b[0m \u001b[0;32mimport\u001b[0m \u001b[0mnumpy\u001b[0m \u001b[0;32mas\u001b[0m \u001b[0mnp\u001b[0m\u001b[0;34m\u001b[0m\u001b[0m\n\u001b[1;32m     13\u001b[0m \u001b[0;32mimport\u001b[0m \u001b[0mpandas\u001b[0m \u001b[0;32mas\u001b[0m \u001b[0mpd\u001b[0m\u001b[0;34m\u001b[0m\u001b[0m\n\u001b[0;32m---> 14\u001b[0;31m \u001b[0;32mimport\u001b[0m \u001b[0mscipy\u001b[0m\u001b[0;34m.\u001b[0m\u001b[0mstats\u001b[0m\u001b[0;34m\u001b[0m\u001b[0m\n\u001b[0m\u001b[1;32m     15\u001b[0m \u001b[0;34m\u001b[0m\u001b[0m\n\u001b[1;32m     16\u001b[0m \u001b[0;32mfrom\u001b[0m \u001b[0mskbio\u001b[0m\u001b[0;34m.\u001b[0m\u001b[0m_base\u001b[0m \u001b[0;32mimport\u001b[0m \u001b[0mSkbioObject\u001b[0m\u001b[0;34m\u001b[0m\u001b[0m\n",
      "\u001b[0;32m~/anaconda3/lib/python3.6/site-packages/scipy/stats/__init__.py\u001b[0m in \u001b[0;36m<module>\u001b[0;34m()\u001b[0m\n\u001b[1;32m    346\u001b[0m \u001b[0;32mfrom\u001b[0m \u001b[0m__future__\u001b[0m \u001b[0;32mimport\u001b[0m \u001b[0mdivision\u001b[0m\u001b[0;34m,\u001b[0m \u001b[0mprint_function\u001b[0m\u001b[0;34m,\u001b[0m \u001b[0mabsolute_import\u001b[0m\u001b[0;34m\u001b[0m\u001b[0m\n\u001b[1;32m    347\u001b[0m \u001b[0;34m\u001b[0m\u001b[0m\n\u001b[0;32m--> 348\u001b[0;31m \u001b[0;32mfrom\u001b[0m \u001b[0;34m.\u001b[0m\u001b[0mstats\u001b[0m \u001b[0;32mimport\u001b[0m \u001b[0;34m*\u001b[0m\u001b[0;34m\u001b[0m\u001b[0m\n\u001b[0m\u001b[1;32m    349\u001b[0m \u001b[0;32mfrom\u001b[0m \u001b[0;34m.\u001b[0m\u001b[0mdistributions\u001b[0m \u001b[0;32mimport\u001b[0m \u001b[0;34m*\u001b[0m\u001b[0;34m\u001b[0m\u001b[0m\n\u001b[1;32m    350\u001b[0m \u001b[0;32mfrom\u001b[0m \u001b[0;34m.\u001b[0m\u001b[0mmorestats\u001b[0m \u001b[0;32mimport\u001b[0m \u001b[0;34m*\u001b[0m\u001b[0;34m\u001b[0m\u001b[0m\n",
      "\u001b[0;32m~/anaconda3/lib/python3.6/site-packages/scipy/stats/stats.py\u001b[0m in \u001b[0;36m<module>\u001b[0;34m()\u001b[0m\n\u001b[1;32m    175\u001b[0m \u001b[0;32mimport\u001b[0m \u001b[0mscipy\u001b[0m\u001b[0;34m.\u001b[0m\u001b[0mspecial\u001b[0m \u001b[0;32mas\u001b[0m \u001b[0mspecial\u001b[0m\u001b[0;34m\u001b[0m\u001b[0m\n\u001b[1;32m    176\u001b[0m \u001b[0;32mimport\u001b[0m \u001b[0mscipy\u001b[0m\u001b[0;34m.\u001b[0m\u001b[0mlinalg\u001b[0m \u001b[0;32mas\u001b[0m \u001b[0mlinalg\u001b[0m\u001b[0;34m\u001b[0m\u001b[0m\n\u001b[0;32m--> 177\u001b[0;31m \u001b[0;32mfrom\u001b[0m \u001b[0;34m.\u001b[0m \u001b[0;32mimport\u001b[0m \u001b[0mdistributions\u001b[0m\u001b[0;34m\u001b[0m\u001b[0m\n\u001b[0m\u001b[1;32m    178\u001b[0m \u001b[0;32mfrom\u001b[0m \u001b[0;34m.\u001b[0m \u001b[0;32mimport\u001b[0m \u001b[0mmstats_basic\u001b[0m\u001b[0;34m\u001b[0m\u001b[0m\n\u001b[1;32m    179\u001b[0m \u001b[0;32mfrom\u001b[0m \u001b[0;34m.\u001b[0m\u001b[0m_distn_infrastructure\u001b[0m \u001b[0;32mimport\u001b[0m \u001b[0m_lazywhere\u001b[0m\u001b[0;34m\u001b[0m\u001b[0m\n",
      "\u001b[0;32m~/anaconda3/lib/python3.6/site-packages/scipy/stats/distributions.py\u001b[0m in \u001b[0;36m<module>\u001b[0;34m()\u001b[0m\n\u001b[1;32m     11\u001b[0m                                     rv_frozen)\n\u001b[1;32m     12\u001b[0m \u001b[0;34m\u001b[0m\u001b[0m\n\u001b[0;32m---> 13\u001b[0;31m \u001b[0;32mfrom\u001b[0m \u001b[0;34m.\u001b[0m \u001b[0;32mimport\u001b[0m \u001b[0m_continuous_distns\u001b[0m\u001b[0;34m\u001b[0m\u001b[0m\n\u001b[0m\u001b[1;32m     14\u001b[0m \u001b[0;32mfrom\u001b[0m \u001b[0;34m.\u001b[0m \u001b[0;32mimport\u001b[0m \u001b[0m_discrete_distns\u001b[0m\u001b[0;34m\u001b[0m\u001b[0m\n\u001b[1;32m     15\u001b[0m \u001b[0;34m\u001b[0m\u001b[0m\n",
      "\u001b[0;32m~/anaconda3/lib/python3.6/site-packages/scipy/stats/_continuous_distns.py\u001b[0m in \u001b[0;36m<module>\u001b[0;34m()\u001b[0m\n\u001b[1;32m     13\u001b[0m \u001b[0;32mfrom\u001b[0m \u001b[0mscipy\u001b[0m \u001b[0;32mimport\u001b[0m \u001b[0mintegrate\u001b[0m\u001b[0;34m\u001b[0m\u001b[0m\n\u001b[1;32m     14\u001b[0m \u001b[0;32mimport\u001b[0m \u001b[0mscipy\u001b[0m\u001b[0;34m.\u001b[0m\u001b[0mspecial\u001b[0m \u001b[0;32mas\u001b[0m \u001b[0msc\u001b[0m\u001b[0;34m\u001b[0m\u001b[0m\n\u001b[0;32m---> 15\u001b[0;31m \u001b[0;32mfrom\u001b[0m \u001b[0mscipy\u001b[0m\u001b[0;34m.\u001b[0m\u001b[0m_lib\u001b[0m\u001b[0;34m.\u001b[0m\u001b[0m_numpy_compat\u001b[0m \u001b[0;32mimport\u001b[0m \u001b[0mbroadcast_to\u001b[0m\u001b[0;34m\u001b[0m\u001b[0m\n\u001b[0m\u001b[1;32m     16\u001b[0m \u001b[0;34m\u001b[0m\u001b[0m\n\u001b[1;32m     17\u001b[0m \u001b[0;32mfrom\u001b[0m \u001b[0;34m.\u001b[0m \u001b[0;32mimport\u001b[0m \u001b[0m_stats\u001b[0m\u001b[0;34m\u001b[0m\u001b[0m\n",
      "\u001b[0;32m~/anaconda3/lib/python3.6/site-packages/scipy/_lib/_numpy_compat.py\u001b[0m in \u001b[0;36m<module>\u001b[0;34m()\u001b[0m\n\u001b[1;32m      8\u001b[0m \u001b[0;34m\u001b[0m\u001b[0m\n\u001b[1;32m      9\u001b[0m \u001b[0;32mimport\u001b[0m \u001b[0mnumpy\u001b[0m \u001b[0;32mas\u001b[0m \u001b[0mnp\u001b[0m\u001b[0;34m\u001b[0m\u001b[0m\n\u001b[0;32m---> 10\u001b[0;31m \u001b[0;32mfrom\u001b[0m \u001b[0mnumpy\u001b[0m\u001b[0;34m.\u001b[0m\u001b[0mtesting\u001b[0m\u001b[0;34m.\u001b[0m\u001b[0mnosetester\u001b[0m \u001b[0;32mimport\u001b[0m \u001b[0mimport_nose\u001b[0m\u001b[0;34m\u001b[0m\u001b[0m\n\u001b[0m\u001b[1;32m     11\u001b[0m \u001b[0;34m\u001b[0m\u001b[0m\n\u001b[1;32m     12\u001b[0m \u001b[0;32mfrom\u001b[0m \u001b[0mscipy\u001b[0m\u001b[0;34m.\u001b[0m\u001b[0m_lib\u001b[0m\u001b[0;34m.\u001b[0m\u001b[0m_version\u001b[0m \u001b[0;32mimport\u001b[0m \u001b[0mNumpyVersion\u001b[0m\u001b[0;34m\u001b[0m\u001b[0m\n",
      "\u001b[0;31mModuleNotFoundError\u001b[0m: No module named 'numpy.testing.nosetester'"
     ]
    }
   ],
   "source": [
    "import numpy\n",
    "import pandas as pd\n",
    "from skbio.diversity import alpha_diversity\n",
    "df= pd.read_csv('/home/erika/Desktop/likeliest_match_mz.csv')\n",
    "newdf = pd.read_csv('/home/erika/Desktop/likeliest_match_abspres.csv')\n",
    "\n",
    "averagetable = newdf.groupby(['Depth'])['n_peaks'].mean()\n",
    "print(averagetable.reset_index())\n",
    "\n",
    "bc_dm = beta_diversity(\"braycurtis\", data, ids)\n",
    "print(bc_dm)\n"
   ]
  },
  {
   "cell_type": "code",
   "execution_count": null,
   "metadata": {},
   "outputs": [],
   "source": [
    "from skbio.diversity import alpha_diversity\n"
   ]
  },
  {
   "cell_type": "code",
   "execution_count": null,
   "metadata": {},
   "outputs": [],
   "source": []
  }
 ]
}